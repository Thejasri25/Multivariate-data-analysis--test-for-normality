{
 "cells": [
  {
   "cell_type": "code",
   "execution_count": 1,
   "id": "2ec99711",
   "metadata": {},
   "outputs": [
    {
     "data": {
      "image/png": "[encoded data removed]",
      "text/plain": [
       "<Figure size 576x432 with 1 Axes>"
      ]
     },
     "metadata": {
      "needs_background": "light"
     },
     "output_type": "display_data"
    }
   ],
   "source": [
    "import numpy as np\n",
    "import matplotlib.pyplot as plt\n",
    "import scipy.stats as stats\n",
    "\n",
    "# Radiation data\n",
    "radiation_data = np.array([0.14, 0.10, 0.20, 0.10, 0.05, 0.11, 0.09, 0.04, 0.09, 0.10,\n",
    "                           0.08, 0.02, 0.01, 0.11, 0.10, 0.10, 0.02, 0.12, 0.01, 0.30,\n",
    "                           0.10, 0.05, 0.08, 0.04, 0.16, 0.07, 0.06, 0.12, 0.01, 0.18,\n",
    "                           0.10, 0.20, 0.11, 0.30, 0.02, 0.20, 0.20, 0.30, 0.30, 0.40,\n",
    "                           0.30, 0.05, 0.08, 0.15, 0.12, 0.16, 0.18, 0.20, 0.13])\n",
    "\n",
    "# Generate quantiles from a normal distribution with the same mean and standard deviation\n",
    "mean = np.mean(radiation_data)\n",
    "std_dev = np.std(radiation_data)\n",
    "expected_quantiles = np.sort(np.random.normal(loc=mean, scale=std_dev, size=len(radiation_data)))\n",
    "\n",
    "# Sort the observed data\n",
    "observed_quantiles = np.sort(radiation_data)\n",
    "\n",
    "# Create a Q-Q plot\n",
    "plt.figure(figsize=(8, 6))\n",
    "plt.scatter(expected_quantiles, observed_quantiles, color='b', alpha=0.6)\n",
    "plt.plot([min(expected_quantiles), max(expected_quantiles)], [min(expected_quantiles), max(expected_quantiles)], color='r', linestyle='--')\n",
    "plt.xlabel(\"Theoretical Quantiles\")\n",
    "plt.ylabel(\"Sample Quantiles\")\n",
    "plt.title(\"Q-Q Plot of Radiation Data\")\n",
    "plt.grid(True)\n",
    "plt.show()\n"
   ]
  },
  {
   "cell_type": "code",
   "execution_count": 3,
   "id": "4984793e",
   "metadata": {},
   "outputs": [
    {
     "name": "stdout",
     "output_type": "stream",
     "text": [
      "0.0007888170657679439\n",
      "The data does not appear to be normally distributed (reject H0)\n"
     ]
    }
   ],
   "source": [
    "from scipy import stats\n",
    "\n",
    "# Perform Shapiro-Wilk test\n",
    "statistic, p_value = stats.shapiro(radiation_data)\n",
    "\n",
    "#null H0: The data is normally distributed\n",
    "#alternate H1: The data is not normally distributed\n",
    "\n",
    "\n",
    "\n",
    "# Interpret the p-value\n",
    "alpha = 0.05\n",
    "print(p_value)\n",
    "if p_value > alpha:\n",
    "    print(\"The data appears to be normally distributed (fail to reject H0)\")\n",
    "else:\n",
    "    print(\"The data does not appear to be normally distributed (reject H0)\")\n"
   ]
  },
  {
   "cell_type": "code",
   "execution_count": 1,
   "id": "2f3728fb",
   "metadata": {},
   "outputs": [
    {
     "name": "stdout",
     "output_type": "stream",
     "text": [
      "Critical value at alpha = 0.10: 29.681221007691708\n",
      "Fail to reject the null hypothesis at alpha = 0.10\n",
      "Critical value at alpha = 0.05: 37.84993864027526\n",
      "Fail to reject the null hypothesis at alpha = 0.05\n"
     ]
    }
   ],
   "source": [
    "import numpy as np\n",
    "from scipy.stats import f\n",
    "\n",
    "# Sweat data\n",
    "sweat_data = np.array([[3.7, 48.5, 9.3],\n",
    "                       [5.7, 65.1, 8.0],\n",
    "                       [3.8, 47.2, 10.9],\n",
    "                       [3.2, 53.2, 12.0],\n",
    "                       [3.1, 55.5, 9.7],\n",
    "                       [4.6, 36.1, 7.9],\n",
    "                       [2.4, 24.8, 14.0],\n",
    "                       [7.2, 33.1, 7.6],\n",
    "                       [6.7, 47.4, 8.5],\n",
    "                       [5.4, 54.1, 11.3],\n",
    "                       [3.9, 36.9, 12.7],\n",
    "                       [4.5, 58.8, 12.3],\n",
    "                       [3.5, 27.8, 9.8],\n",
    "                       [4.5, 40.2, 8.4],\n",
    "                       [1.5, 13.5, 10.1],\n",
    "                       [8.5, 56.4, 7.1],\n",
    "                       [4.5, 71.6, 8.2],\n",
    "                       [6.5, 52.8, 10.9],\n",
    "                       [4.1, 44.1, 11.2],\n",
    "                       [5.5, 40.9, 9.4],\n",
    "                       [2.5, 50.8, 10.2],\n",
    "                       [5.0, 53.0, 11.0],\n",
    "                       [6.8, 68.0, 13.0],\n",
    "                       [7.0, 60.25, 11.5],\n",
    "                       [4.5, 56.8, 9.0],\n",
    "                       [6.6, 60.2, 5.0],\n",
    "                       [3.0, 66.2, 7.0],\n",
    "                       [8.0, 55.0, 10.0],\n",
    "                       [10.0, 70.0, 12.0],\n",
    "                       [6.0, 66.0, 16.0],\n",
    "                       [5.5, 70.0, 12.0],\n",
    "                       [7.0, 50.5, 8.0],\n",
    "                       [9.0, 60.0, 11.5],\n",
    "                       [5.0, 40.0, 6.0],\n",
    "                       [6.0, 50.0, 10.0],\n",
    "                       [4.0, 30.0, 12.0],\n",
    "                       [8.0, 55.0, 16.0],\n",
    "                       [9.0, 60.0, 10.0],\n",
    "                       [8.0, 45.0, 13.0],\n",
    "                       [3.0, 40.0, 10.0],\n",
    "                       [6.0, 48.0, 11.0],\n",
    "                       [8.0, 54.0, 13.0],\n",
    "                       [2.0, 36.0, 6.0]])\n",
    "\n",
    "# Hypothesized mean vector\n",
    "mu0 = np.array([4, 50, 10])\n",
    "\n",
    "# Sample mean vector\n",
    "xbar = np.mean(sweat_data, axis=0)\n",
    "\n",
    "# Sample covariance matrix\n",
    "S = np.cov(sweat_data, rowvar=False)\n",
    "\n",
    "# Sample size\n",
    "n = sweat_data.shape[0]\n",
    "\n",
    "# Number of variables\n",
    "k = sweat_data.shape[1]\n",
    "\n",
    "# Test statistic\n",
    "T2 = n * (xbar - mu0).T @ np.linalg.inv(S) @ (xbar - mu0)\n",
    "\n",
    "# Critical value at alpha = 0.10\n",
    "alpha = 0.10\n",
    "df1 = k\n",
    "df2 = n - k\n",
    "cv = df2 / df1 * f.ppf(1 - alpha, df1, df2)\n",
    "print(\"Critical value at alpha = 0.10:\", cv)\n",
    "\n",
    "# Test result at alpha = 0.10\n",
    "if T2 > cv:\n",
    "    print(\"Reject the null hypothesis at alpha = 0.10\")\n",
    "else:\n",
    "    print(\"Fail to reject the null hypothesis at alpha = 0.10\")\n",
    "\n",
    "# Critical value at alpha = 0.05\n",
    "alpha = 0.05\n",
    "df1 = k\n",
    "df2 = n - k\n",
    "cv = df2 / df1 * f.ppf(1 - alpha, df1, df2)\n",
    "print(\"Critical value at alpha = 0.05:\", cv)\n",
    "\n",
    "# Test result at alpha = 0.05\n",
    "if T2 > cv:\n",
    "    print(\"Reject the null hypothesis at alpha = 0.05\")\n",
    "else:\n",
    "    print(\"Fail to reject the null hypothesis at alpha = 0.05\")\n",
    "\n",
    "# Critical value at alpha = 0.01\n",
    "alpha = 0.01\n",
    "df1 = k\n",
    "df2 = n - k"
   ]
  },
  {
   "cell_type": "code",
   "execution_count": null,
   "id": "41fbece2",
   "metadata": {},
   "outputs": [],
   "source": []
  }
 ],
 "metadata": {
  "kernelspec": {
   "display_name": "Python 3 (ipykernel)",
   "language": "python",
   "name": "python3"
  },
  "language_info": {
   "codemirror_mode": {
    "name": "ipython",
    "version": 3
   },
   "file_extension": ".py",
   "mimetype": "text/x-python",
   "name": "python",
   "nbconvert_exporter": "python",
   "pygments_lexer": "ipython3",
   "version": "3.9.12"
  }
 },
 "nbformat": 4,
 "nbformat_minor": 5
}
